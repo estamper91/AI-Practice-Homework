{
 "cells": [
  {
   "cell_type": "markdown",
   "id": "a84fdcc0-5353-4b22-95ba-e78c6bfb3dcb",
   "metadata": {},
   "source": [
    "# AI Assignment\n",
    "## by Ellie Stamper\n",
    "\n",
    "### AI Program Used: ChatGPT 4o, ChatGPT 4o.Mini"
   ]
  },
  {
   "cell_type": "markdown",
   "id": "12c0f5a4-cccc-4412-a41d-54079d9c9045",
   "metadata": {},
   "source": [
    "**Prompt:** Write code to import pandas, seaborn, matplotlib, and pyplot.express to visualize data."
   ]
  },
  {
   "cell_type": "code",
   "execution_count": 35,
   "id": "20639da0-310d-4c63-8fb4-8b372518c453",
   "metadata": {},
   "outputs": [],
   "source": [
    "import pandas as pd\n",
    "import pandas as pd\n",
    "import seaborn as sns\n",
    "import matplotlib.pyplot as plt\n",
    "import plotly.express as px"
   ]
  },
  {
   "cell_type": "markdown",
   "id": "007ead06-2867-438a-b479-a54c49fc2967",
   "metadata": {},
   "source": [
    "**Prompt:** Now write code to import train_test_split, StandardScaler, and KNeighborsClassifier from scikit learn. Also write one line of code to import confusion_matrix, classification_report, accuracy_score, precision_score, recall_score, and f1_score from sklearn.metrics."
   ]
  },
  {
   "cell_type": "code",
   "execution_count": 36,
   "id": "960ab463-660e-41ba-8530-563d21e030d2",
   "metadata": {},
   "outputs": [],
   "source": [
    "# Import train_test_split and StandardScaler\n",
    "from sklearn.model_selection import train_test_split\n",
    "from sklearn.preprocessing import StandardScaler\n",
    "\n",
    "# Import KNeighborsClassifier\n",
    "from sklearn.neighbors import KNeighborsClassifier\n",
    "\n",
    "# Import evaluation metrics\n",
    "from sklearn.metrics import confusion_matrix, classification_report, accuracy_score, precision_score, recall_score, f1_score"
   ]
  },
  {
   "cell_type": "markdown",
   "id": "ef12e696-e2fb-4fe5-b29d-5ea7fda92760",
   "metadata": {},
   "source": [
    "**Prompt:** I have a csv file named card_transdata.csv. Write python code to read the file using pandas and print the first few rows. "
   ]
  },
  {
   "cell_type": "code",
   "execution_count": 37,
   "id": "6dda9343-d334-4834-adbe-7f3dd70ed513",
   "metadata": {},
   "outputs": [
    {
     "name": "stdout",
     "output_type": "stream",
     "text": [
      "   distance_from_home  distance_from_last_transaction  \\\n",
      "0           57.877857                        0.311140   \n",
      "1           10.829943                        0.175592   \n",
      "2            5.091079                             NaN   \n",
      "3            2.247564                        5.600044   \n",
      "4           44.190936                        0.566486   \n",
      "\n",
      "   ratio_to_median_purchase_price  repeat_retailer  used_chip  \\\n",
      "0                        1.945940              1.0        1.0   \n",
      "1                        1.294219              1.0        NaN   \n",
      "2                        0.427715              1.0        0.0   \n",
      "3                        0.362663              1.0        1.0   \n",
      "4                        2.222767              1.0        1.0   \n",
      "\n",
      "   used_pin_number  online_order  fraud  \n",
      "0              0.0           0.0      0  \n",
      "1              0.0           0.0      0  \n",
      "2              0.0           1.0      0  \n",
      "3              0.0           1.0      0  \n",
      "4              0.0           1.0      0  \n"
     ]
    }
   ],
   "source": [
    "# Read the CSV file\n",
    "file_path = 'card_transdata.csv'\n",
    "data = pd.read_csv(file_path)\n",
    "\n",
    "# Display the first few rows\n",
    "print(data.head())"
   ]
  },
  {
   "cell_type": "markdown",
   "id": "c4b2add6-f29c-4f01-983d-39552a4ffc46",
   "metadata": {},
   "source": [
    "**Prompt:** Write code to show the number of rows and columns of card_transdata.csv"
   ]
  },
  {
   "cell_type": "code",
   "execution_count": 38,
   "id": "89368394-f708-4f09-9698-fe3b699c3edc",
   "metadata": {},
   "outputs": [
    {
     "name": "stdout",
     "output_type": "stream",
     "text": [
      "(999, 8)\n"
     ]
    }
   ],
   "source": [
    "print(data.shape)"
   ]
  },
  {
   "cell_type": "markdown",
   "id": "019ddba6-9445-431a-942f-0009603fb955",
   "metadata": {},
   "source": [
    "**Prompt:** Write code to print the info of the data"
   ]
  },
  {
   "cell_type": "code",
   "execution_count": 39,
   "id": "7d03b5c3-da1e-48bf-a02d-014dc2042777",
   "metadata": {},
   "outputs": [
    {
     "name": "stdout",
     "output_type": "stream",
     "text": [
      "<class 'pandas.core.frame.DataFrame'>\n",
      "RangeIndex: 999 entries, 0 to 998\n",
      "Data columns (total 8 columns):\n",
      " #   Column                          Non-Null Count  Dtype  \n",
      "---  ------                          --------------  -----  \n",
      " 0   distance_from_home              999 non-null    float64\n",
      " 1   distance_from_last_transaction  996 non-null    float64\n",
      " 2   ratio_to_median_purchase_price  997 non-null    float64\n",
      " 3   repeat_retailer                 992 non-null    float64\n",
      " 4   used_chip                       995 non-null    float64\n",
      " 5   used_pin_number                 997 non-null    float64\n",
      " 6   online_order                    995 non-null    float64\n",
      " 7   fraud                           999 non-null    int64  \n",
      "dtypes: float64(7), int64(1)\n",
      "memory usage: 62.6 KB\n",
      "None\n"
     ]
    }
   ],
   "source": [
    "print(data.info())"
   ]
  },
  {
   "cell_type": "markdown",
   "id": "87761389-563d-497d-9cd7-103c5b512d33",
   "metadata": {},
   "source": [
    "**Prompt:** Write code to print summary statistics for the data"
   ]
  },
  {
   "cell_type": "code",
   "execution_count": 40,
   "id": "7acc9016-85e6-4cac-964b-9a3f09392f7a",
   "metadata": {},
   "outputs": [
    {
     "name": "stdout",
     "output_type": "stream",
     "text": [
      "       distance_from_home  distance_from_last_transaction  \\\n",
      "count          999.000000                      996.000000   \n",
      "mean            26.876607                        5.437319   \n",
      "std             63.899697                       35.668094   \n",
      "min              0.104184                        0.001448   \n",
      "25%              3.990543                        0.306441   \n",
      "50%             10.340321                        0.958539   \n",
      "75%             25.393952                        3.137259   \n",
      "max            965.910612                      990.070315   \n",
      "\n",
      "       ratio_to_median_purchase_price  repeat_retailer   used_chip  \\\n",
      "count                      997.000000       992.000000  995.000000   \n",
      "mean                         1.655069         0.892137    0.313568   \n",
      "std                          2.351386         0.310364    0.464176   \n",
      "min                          0.016933         0.000000    0.000000   \n",
      "25%                          0.468123         1.000000    0.000000   \n",
      "50%                          0.955504         1.000000    0.000000   \n",
      "75%                          1.922025         1.000000    1.000000   \n",
      "max                         36.074366         1.000000    1.000000   \n",
      "\n",
      "       used_pin_number  online_order       fraud  \n",
      "count       997.000000    995.000000  999.000000  \n",
      "mean          0.117352      0.673367    0.079079  \n",
      "std           0.322001      0.469218    0.269997  \n",
      "min           0.000000      0.000000    0.000000  \n",
      "25%           0.000000      0.000000    0.000000  \n",
      "50%           0.000000      1.000000    0.000000  \n",
      "75%           0.000000      1.000000    0.000000  \n",
      "max           1.000000      1.000000    1.000000  \n"
     ]
    }
   ],
   "source": [
    "print(data.describe())"
   ]
  },
  {
   "cell_type": "markdown",
   "id": "955996c9-5876-4b4f-93b5-d3fade5326bf",
   "metadata": {},
   "source": [
    "**AI:** switched to ChatGPT 4o.Mini (ran out of free use of the full version)  \n",
    "\n",
    "**Prompt:** Summarize the number of missing values in each column of the data"
   ]
  },
  {
   "cell_type": "code",
   "execution_count": 41,
   "id": "82ba35f2-035d-4d5c-8b6a-bceac5ff909f",
   "metadata": {},
   "outputs": [
    {
     "name": "stdout",
     "output_type": "stream",
     "text": [
      "distance_from_home                0\n",
      "distance_from_last_transaction    3\n",
      "ratio_to_median_purchase_price    2\n",
      "repeat_retailer                   7\n",
      "used_chip                         4\n",
      "used_pin_number                   2\n",
      "online_order                      4\n",
      "fraud                             0\n",
      "dtype: int64\n"
     ]
    }
   ],
   "source": [
    "# Summarize the number of missing values in each column\n",
    "print(data.isnull().sum())"
   ]
  },
  {
   "cell_type": "markdown",
   "id": "4376dc82-1e74-42ad-9602-90642b448f0c",
   "metadata": {},
   "source": [
    "**Prompt:** Write code to drop the null values by making a copy of the data. Then print the first few rows of the clean data."
   ]
  },
  {
   "cell_type": "code",
   "execution_count": 42,
   "id": "dcc98e0f-c044-4623-b6a9-73cbb8cbd4e3",
   "metadata": {},
   "outputs": [],
   "source": [
    "# Make a copy of the data and drop rows with null values\n",
    "data = data.copy().dropna()"
   ]
  },
  {
   "cell_type": "code",
   "execution_count": 43,
   "id": "91eac33f-1c84-4f3a-b847-d98436162e84",
   "metadata": {},
   "outputs": [
    {
     "name": "stdout",
     "output_type": "stream",
     "text": [
      "   distance_from_home  distance_from_last_transaction  \\\n",
      "0           57.877857                        0.311140   \n",
      "3            2.247564                        5.600044   \n",
      "4           44.190936                        0.566486   \n",
      "5            5.586408                       13.261073   \n",
      "6            3.724019                        0.956838   \n",
      "\n",
      "   ratio_to_median_purchase_price  repeat_retailer  used_chip  \\\n",
      "0                        1.945940              1.0        1.0   \n",
      "3                        0.362663              1.0        1.0   \n",
      "4                        2.222767              1.0        1.0   \n",
      "5                        0.064768              1.0        0.0   \n",
      "6                        0.278465              1.0        0.0   \n",
      "\n",
      "   used_pin_number  online_order  fraud  \n",
      "0              0.0           0.0      0  \n",
      "3              0.0           1.0      0  \n",
      "4              0.0           1.0      0  \n",
      "5              0.0           0.0      0  \n",
      "6              0.0           1.0      0  \n"
     ]
    }
   ],
   "source": [
    "# Print the first few rows of the cleaned data\n",
    "print(data.head())"
   ]
  },
  {
   "cell_type": "markdown",
   "id": "7480d411-0830-471e-815f-ac5e0fd9fcd2",
   "metadata": {},
   "source": [
    "**Prompt:** Write code to plot a count of a column called \"fraud\" from the data, and title the plot before showing it. "
   ]
  },
  {
   "cell_type": "code",
   "execution_count": 44,
   "id": "138751a6-4497-48ba-80b4-5c1c8f37e10b",
   "metadata": {},
   "outputs": [
    {
     "data": {
      "image/png": "[encoded data removed]",
      "text/plain": [
       "<Figure size 432x288 with 1 Axes>"
      ]
     },
     "metadata": {
      "needs_background": "light"
     },
     "output_type": "display_data"
    }
   ],
   "source": [
    "# Plot the count of the 'fraud' column\n",
    "sns.countplot(x='fraud', data=data)\n",
    "\n",
    "# Title the plot\n",
    "plt.title('Count of Fraudulent Transactions')\n",
    "\n",
    "# Show the plot\n",
    "plt.show()"
   ]
  },
  {
   "cell_type": "markdown",
   "id": "f14cad2a-3f14-424b-938d-ff1ff4893cb2",
   "metadata": {},
   "source": [
    "**Prompt:** Write code to make separate countplots with titles for the columns \"used_pin_number\", \"repeat_retailer\", and \"used_chip\""
   ]
  },
  {
   "cell_type": "code",
   "execution_count": 45,
   "id": "9cc79015-11e1-4bed-882d-34afd5d3b085",
   "metadata": {},
   "outputs": [
    {
     "data": {
      "image/png": "[encoded data removed]",
      "text/plain": [
       "<Figure size 432x288 with 1 Axes>"
      ]
     },
     "metadata": {
      "needs_background": "light"
     },
     "output_type": "display_data"
    }
   ],
   "source": [
    "# Create a countplot for 'used_pin_number'\n",
    "sns.countplot(x='used_pin_number', data=data)\n",
    "plt.title('Count of Used PIN Numbers')\n",
    "plt.show()"
   ]
  },
  {
   "cell_type": "code",
   "execution_count": 46,
   "id": "b1016104-2dff-4604-8e61-52997a2f188d",
   "metadata": {},
   "outputs": [
    {
     "data": {
      "image/png": "[encoded data removed]",
      "text/plain": [
       "<Figure size 432x288 with 1 Axes>"
      ]
     },
     "metadata": {
      "needs_background": "light"
     },
     "output_type": "display_data"
    }
   ],
   "source": [
    "# Create a countplot for 'repeat_retailer'\n",
    "sns.countplot(x='repeat_retailer', data=data)\n",
    "plt.title('Count of Repeat Retailers')\n",
    "plt.show()"
   ]
  },
  {
   "cell_type": "code",
   "execution_count": 47,
   "id": "9c7b8328-0b2a-40ea-af87-6e97a02a6da5",
   "metadata": {},
   "outputs": [
    {
     "data": {
      "image/png": "[encoded data removed]",
      "text/plain": [
       "<Figure size 432x288 with 1 Axes>"
      ]
     },
     "metadata": {
      "needs_background": "light"
     },
     "output_type": "display_data"
    }
   ],
   "source": [
    "# Create a countplot for 'used_chip'\n",
    "sns.countplot(x='used_chip', data=data)\n",
    "plt.title('Count of Used Chip')\n",
    "plt.show()"
   ]
  },
  {
   "cell_type": "markdown",
   "id": "f282c95b-8707-43ad-a45d-859693e188df",
   "metadata": {},
   "source": [
    "**Prompt:** Make separate histograms with titles for the columns \"distance_from_last_transaction\",\"ratio_to_median_purchase_price\", and \"distance_from_home\" with thirty bins in each. "
   ]
  },
  {
   "cell_type": "code",
   "execution_count": 48,
   "id": "d2f06e56-f58a-48a1-a3ca-8c714febe247",
   "metadata": {},
   "outputs": [
    {
     "data": {
      "image/png": "[encoded data removed]",
      "text/plain": [
       "<Figure size 432x288 with 1 Axes>"
      ]
     },
     "metadata": {
      "needs_background": "light"
     },
     "output_type": "display_data"
    }
   ],
   "source": [
    "# Create a histogram for 'distance_from_last_transaction'\n",
    "plt.hist(data['distance_from_last_transaction'], bins=30, color='skyblue', edgecolor='black')\n",
    "plt.title('Histogram of Distance from Last Transaction')\n",
    "plt.xlabel('Distance from Last Transaction')\n",
    "plt.ylabel('Frequency')\n",
    "plt.show()"
   ]
  },
  {
   "cell_type": "code",
   "execution_count": 49,
   "id": "a0cdf040-c4d4-465b-b2af-033f81d9856f",
   "metadata": {},
   "outputs": [
    {
     "data": {
      "image/png": "[encoded data removed]",
      "text/plain": [
       "<Figure size 432x288 with 1 Axes>"
      ]
     },
     "metadata": {
      "needs_background": "light"
     },
     "output_type": "display_data"
    }
   ],
   "source": [
    "# Create a histogram for 'ratio_to_median_purchase_price'\n",
    "plt.hist(data['ratio_to_median_purchase_price'], bins=30, color='lightgreen', edgecolor='black')\n",
    "plt.title('Histogram of Ratio to Median Purchase Price')\n",
    "plt.xlabel('Ratio to Median Purchase Price')\n",
    "plt.ylabel('Frequency')\n",
    "plt.show()"
   ]
  },
  {
   "cell_type": "code",
   "execution_count": 50,
   "id": "d17aa9b7-fa2c-4b15-a97d-cb861f868459",
   "metadata": {},
   "outputs": [
    {
     "data": {
      "image/png": "[encoded data removed]",
      "text/plain": [
       "<Figure size 432x288 with 1 Axes>"
      ]
     },
     "metadata": {
      "needs_background": "light"
     },
     "output_type": "display_data"
    }
   ],
   "source": [
    "# Create a histogram for 'distance_from_home'\n",
    "plt.hist(data['distance_from_home'], bins=30, color='lightcoral', edgecolor='black')\n",
    "plt.title('Histogram of Distance from Home')\n",
    "plt.xlabel('Distance from Home')\n",
    "plt.ylabel('Frequency')\n",
    "plt.show()"
   ]
  },
  {
   "cell_type": "markdown",
   "id": "3f3cfdcb-2849-4b2f-af99-6f338d063fc5",
   "metadata": {},
   "source": [
    "**Prompt:** Make a count plot with a title, axis labels, and legend for the column \"used_pin_number\" with the hue based on the \"fraud\" column and the palette being green and red."
   ]
  },
  {
   "cell_type": "code",
   "execution_count": 51,
   "id": "8db22b98-f799-49b7-adee-9414532012a0",
   "metadata": {},
   "outputs": [
    {
     "data": {
      "image/png": "[encoded data removed]",
      "text/plain": [
       "<Figure size 432x288 with 1 Axes>"
      ]
     },
     "metadata": {
      "needs_background": "light"
     },
     "output_type": "display_data"
    }
   ],
   "source": [
    "# Create a countplot for 'used_pin_number' with hue based on 'fraud'\n",
    "sns.countplot(x='used_pin_number', hue='fraud', data=data, palette=['green', 'red'])\n",
    "\n",
    "# Add title, axis labels, and legend\n",
    "plt.title('Count of Used PIN Numbers Based on Fraud')\n",
    "plt.xlabel('Used PIN Number')\n",
    "plt.ylabel('Count')\n",
    "plt.legend(title='Fraud', labels=['No Fraud', 'Fraud'])\n",
    "\n",
    "# Show the plot\n",
    "plt.show()"
   ]
  },
  {
   "cell_type": "markdown",
   "id": "5508dfbd-b16b-41fc-8e6d-539d7bd2fded",
   "metadata": {},
   "source": [
    "**Prompt:** Make a stacked bar chart with percentage using \"used_pin_number\" and color by fraud with red and green. "
   ]
  },
  {
   "cell_type": "code",
   "execution_count": 52,
   "id": "2ce7c79b-2b5f-476b-92e5-caf7a7204629",
   "metadata": {},
   "outputs": [
    {
     "data": {
      "image/png": "[encoded data removed]",
      "text/plain": [
       "<Figure size 360x216 with 1 Axes>"
      ]
     },
     "metadata": {
      "needs_background": "light"
     },
     "output_type": "display_data"
    }
   ],
   "source": [
    "# Create a grouped DataFrame with percentage\n",
    "pin_fraud_percent = data.groupby(['used_pin_number', 'fraud']).size().unstack().apply(lambda x: x / x.sum() * 100, axis=1)\n",
    "\n",
    "# Plot the stacked bar chart\n",
    "pin_fraud_percent.plot(kind='bar', stacked=True, color=['green', 'red'], figsize=(5, 3))\n",
    "\n",
    "# Add title and axis labels\n",
    "plt.title('Percentage of Used PIN Numbers by Fraud Status')\n",
    "plt.xlabel('Used PIN Number')\n",
    "plt.ylabel('Percentage')\n",
    "\n",
    "# Show the plot\n",
    "plt.show()"
   ]
  },
  {
   "cell_type": "markdown",
   "id": "06481c40-b90b-41f8-975d-a76a1f1c165b",
   "metadata": {},
   "source": [
    "**Prompt:** Make the same two graphs separately for 'repeat_retailer', one count plot and one stacked bar."
   ]
  },
  {
   "cell_type": "code",
   "execution_count": 53,
   "id": "01264c61-c06d-4847-8bbf-abac25957d34",
   "metadata": {},
   "outputs": [
    {
     "data": {
      "image/png": "[encoded data removed]",
      "text/plain": [
       "<Figure size 432x288 with 1 Axes>"
      ]
     },
     "metadata": {
      "needs_background": "light"
     },
     "output_type": "display_data"
    }
   ],
   "source": [
    "# Create a countplot for 'repeat_retailer' with hue based on 'fraud'\n",
    "sns.countplot(x='repeat_retailer', hue='fraud', data=data, palette=['green', 'red'])\n",
    "\n",
    "# Add title, axis labels, and legend\n",
    "plt.title('Count of Repeat Retailers Based on Fraud')\n",
    "plt.xlabel('Repeat Retailer')\n",
    "plt.ylabel('Count')\n",
    "plt.legend(title='Fraud', labels=['No Fraud', 'Fraud'])\n",
    "\n",
    "# Show the plot\n",
    "plt.show()"
   ]
  },
  {
   "cell_type": "code",
   "execution_count": 54,
   "id": "e187b755-27c5-49a8-aa5a-9a23add0492b",
   "metadata": {},
   "outputs": [
    {
     "data": {
      "image/png": "[encoded data removed]",
      "text/plain": [
       "<Figure size 360x216 with 1 Axes>"
      ]
     },
     "metadata": {
      "needs_background": "light"
     },
     "output_type": "display_data"
    }
   ],
   "source": [
    "# Create a grouped DataFrame with percentage for 'repeat_retailer' and 'fraud'\n",
    "repeat_fraud_percent = data.groupby(['repeat_retailer', 'fraud']).size().unstack().apply(lambda x: x / x.sum() * 100, axis=1)\n",
    "\n",
    "# Plot the stacked bar chart with a smaller figure size\n",
    "repeat_fraud_percent.plot(kind='bar', stacked=True, color=['green', 'red'], figsize=(5, 3))\n",
    "\n",
    "# Add title and axis labels\n",
    "plt.title('Percentage of Repeat Retailers by Fraud Status')\n",
    "plt.xlabel('Repeat Retailer')\n",
    "plt.ylabel('Percentage')\n",
    "\n",
    "# Show the plot\n",
    "plt.show()"
   ]
  },
  {
   "cell_type": "markdown",
   "id": "4a66f9ae-fcdd-4dad-a8ce-9aecabe5b23a",
   "metadata": {},
   "source": [
    "**Prompt:** Make those two plots again for \"used_chip\". "
   ]
  },
  {
   "cell_type": "code",
   "execution_count": 55,
   "id": "668e4c52-b04b-48ef-94d0-b899e8d6fd0a",
   "metadata": {},
   "outputs": [
    {
     "data": {
      "image/png": "[encoded data removed]",
      "text/plain": [
       "<Figure size 432x288 with 1 Axes>"
      ]
     },
     "metadata": {
      "needs_background": "light"
     },
     "output_type": "display_data"
    }
   ],
   "source": [
    "# Create a countplot for 'used_chip' with hue based on 'fraud'\n",
    "sns.countplot(x='used_chip', hue='fraud', data=data, palette=['green', 'red'])\n",
    "\n",
    "# Add title, axis labels, and legend\n",
    "plt.title('Count of Used Chip Based on Fraud')\n",
    "plt.xlabel('Used Chip')\n",
    "plt.ylabel('Count')\n",
    "plt.legend(title='Fraud', labels=['No Fraud', 'Fraud'])\n",
    "\n",
    "# Show the plot\n",
    "plt.show()"
   ]
  },
  {
   "cell_type": "code",
   "execution_count": 56,
   "id": "300d6e0a-edee-4b68-9c01-2e355a48bace",
   "metadata": {},
   "outputs": [
    {
     "data": {
      "image/png": "[encoded data removed]",
      "text/plain": [
       "<Figure size 360x216 with 1 Axes>"
      ]
     },
     "metadata": {
      "needs_background": "light"
     },
     "output_type": "display_data"
    }
   ],
   "source": [
    "# Create a grouped DataFrame with percentage for 'used_chip' and 'fraud'\n",
    "chip_fraud_percent = data.groupby(['used_chip', 'fraud']).size().unstack().apply(lambda x: x / x.sum() * 100, axis=1)\n",
    "\n",
    "# Plot the stacked bar chart with a smaller figure size\n",
    "chip_fraud_percent.plot(kind='bar', stacked=True, color=['green', 'red'], figsize=(5, 3))\n",
    "\n",
    "# Add title and axis labels\n",
    "plt.title('Percentage of Used Chip by Fraud Status')\n",
    "plt.xlabel('Used Chip')\n",
    "plt.ylabel('Percentage')\n",
    "\n",
    "# Show the plot\n",
    "plt.show()"
   ]
  },
  {
   "cell_type": "markdown",
   "id": "1fe82086-5e07-43e3-82e4-6f362918a7ba",
   "metadata": {},
   "source": [
    "**Prompt:** Make the same graphs for \"online_order\"."
   ]
  },
  {
   "cell_type": "code",
   "execution_count": 57,
   "id": "a6a6f245-fed9-45fe-b7ac-24907973fe74",
   "metadata": {},
   "outputs": [
    {
     "data": {
      "image/png": "[encoded data removed]",
      "text/plain": [
       "<Figure size 432x288 with 1 Axes>"
      ]
     },
     "metadata": {
      "needs_background": "light"
     },
     "output_type": "display_data"
    }
   ],
   "source": [
    "# Create a countplot for 'online_order' with hue based on 'fraud'\n",
    "sns.countplot(x='online_order', hue='fraud', data=data, palette=['green', 'red'])\n",
    "\n",
    "# Add title, axis labels, and legend\n",
    "plt.title('Count of Online Orders Based on Fraud')\n",
    "plt.xlabel('Online Order')\n",
    "plt.ylabel('Count')\n",
    "plt.legend(title='Fraud', labels=['No Fraud', 'Fraud'])\n",
    "\n",
    "# Show the plot\n",
    "plt.show()"
   ]
  },
  {
   "cell_type": "code",
   "execution_count": 58,
   "id": "d1d464a3-1e74-48a5-8342-bcace2298c25",
   "metadata": {},
   "outputs": [
    {
     "data": {
      "image/png": "[encoded data removed]",
      "text/plain": [
       "<Figure size 360x216 with 1 Axes>"
      ]
     },
     "metadata": {
      "needs_background": "light"
     },
     "output_type": "display_data"
    }
   ],
   "source": [
    "# Create a grouped DataFrame with percentage for 'online_order' and 'fraud'\n",
    "online_fraud_percent = data.groupby(['online_order', 'fraud']).size().unstack().apply(lambda x: x / x.sum() * 100, axis=1)\n",
    "\n",
    "# Plot the stacked bar chart with a smaller figure size\n",
    "online_fraud_percent.plot(kind='bar', stacked=True, color=['green', 'red'], figsize=(5, 3))\n",
    "\n",
    "# Add title and axis labels\n",
    "plt.title('Percentage of Online Orders by Fraud Status')\n",
    "plt.xlabel('Online Order')\n",
    "plt.ylabel('Percentage')\n",
    "\n",
    "# Show the plot\n",
    "plt.show()"
   ]
  },
  {
   "cell_type": "markdown",
   "id": "89fb8d50-2eed-4193-92a1-4c73e4f3f0c5",
   "metadata": {},
   "source": [
    "**Prompt:** Make a scatterplot with a title, axis labels, and legend for 'distance_from_home' versus 'ratio_to_median_purchase_price'. Make the hue according to fraud with a color palette of green and red."
   ]
  },
  {
   "cell_type": "code",
   "execution_count": 59,
   "id": "2f2186f8-cd66-4684-8c98-e735656329c2",
   "metadata": {},
   "outputs": [
    {
     "data": {
      "image/png": "[encoded data removed]",
      "text/plain": [
       "<Figure size 432x288 with 1 Axes>"
      ]
     },
     "metadata": {
      "needs_background": "light"
     },
     "output_type": "display_data"
    }
   ],
   "source": [
    "# Create a scatterplot for 'distance_from_home' vs 'ratio_to_median_purchase_price'\n",
    "sns.scatterplot(x='distance_from_home', y='ratio_to_median_purchase_price', hue='fraud', data=data, palette=['green', 'red'])\n",
    "\n",
    "# Add title, axis labels, and legend\n",
    "plt.title('Scatterplot of Distance from Home vs. Ratio to Median Purchase Price')\n",
    "plt.xlabel('Distance from Home')\n",
    "plt.ylabel('Ratio to Median Purchase Price')\n",
    "plt.legend(title='Fraud', labels=['No Fraud', 'Fraud'])\n",
    "\n",
    "# Show the plot\n",
    "plt.show()"
   ]
  },
  {
   "cell_type": "markdown",
   "id": "cf3df454-1649-437d-ac57-7878863e097e",
   "metadata": {},
   "source": [
    "**Prompt:** Make the same scatterplot with \"distance_from_home\" versus \"distance_from_last_transaction\". Then, make a separate scatterplot with \"distance_from_last_transaction\" versus \"ratio_to_median_purchase_price\". "
   ]
  },
  {
   "cell_type": "code",
   "execution_count": 60,
   "id": "29e1c4a5-0452-413b-9bb8-244e2898dbed",
   "metadata": {},
   "outputs": [
    {
     "data": {
      "image/png": "[encoded data removed]",
      "text/plain": [
       "<Figure size 432x288 with 1 Axes>"
      ]
     },
     "metadata": {
      "needs_background": "light"
     },
     "output_type": "display_data"
    }
   ],
   "source": [
    "# Create a scatterplot for 'distance_from_home' vs 'distance_from_last_transaction'\n",
    "sns.scatterplot(x='distance_from_home', y='distance_from_last_transaction', hue='fraud', data=data, palette=['green', 'red'])\n",
    "\n",
    "# Add title, axis labels, and legend\n",
    "plt.title('Scatterplot of Distance from Home vs. Distance from Last Transaction')\n",
    "plt.xlabel('Distance from Home')\n",
    "plt.ylabel('Distance from Last Transaction')\n",
    "plt.legend(title='Fraud', labels=['No Fraud', 'Fraud'])\n",
    "\n",
    "# Show the plot\n",
    "plt.show()"
   ]
  },
  {
   "cell_type": "code",
   "execution_count": 61,
   "id": "444a5d14-51d7-49e8-9247-b1fc2d49bde8",
   "metadata": {},
   "outputs": [
    {
     "data": {
      "image/png": "[encoded data removed]",
      "text/plain": [
       "<Figure size 432x288 with 1 Axes>"
      ]
     },
     "metadata": {
      "needs_background": "light"
     },
     "output_type": "display_data"
    }
   ],
   "source": [
    "# Create a scatterplot for 'distance_from_last_transaction' vs 'ratio_to_median_purchase_price'\n",
    "sns.scatterplot(x='distance_from_last_transaction', y='ratio_to_median_purchase_price', hue='fraud', data=data, palette=['green', 'red'])\n",
    "\n",
    "# Add title, axis labels, and legend\n",
    "plt.title('Scatterplot of Distance from Last Transaction vs. Ratio to Median Purchase Price')\n",
    "plt.xlabel('Distance from Last Transaction')\n",
    "plt.ylabel('Ratio to Median Purchase Price')\n",
    "plt.legend(title='Fraud', labels=['No Fraud', 'Fraud'])\n",
    "\n",
    "# Show the plot\n",
    "plt.show()"
   ]
  },
  {
   "cell_type": "markdown",
   "id": "e6a7cf12-beed-45d6-80f7-1e583ff3e361",
   "metadata": {},
   "source": [
    "**Prompt:** Write code to split the data into X and y variables, where X has every feature of the dataset except the fraud column, and where y is only the fraud column."
   ]
  },
  {
   "cell_type": "code",
   "execution_count": 62,
   "id": "f80c36a2-1abd-4fe3-93f1-5e94ae666521",
   "metadata": {},
   "outputs": [],
   "source": [
    "# Split the data into X (features) and y (target)\n",
    "X = data.drop(columns=['fraud'], axis=1)\n",
    "y = data['fraud']"
   ]
  },
  {
   "cell_type": "markdown",
   "id": "28d4f46c-5bcc-47be-bb67-cf8e977c0166",
   "metadata": {},
   "source": [
    "**Prompt:** Write code to the data into training and testing sets with scikit learn using X and y. Set the test size to 0.2, the random state to 42, and stratify the y variable. Then print the X train. "
   ]
  },
  {
   "cell_type": "code",
   "execution_count": 63,
   "id": "7dfab770-a369-4ca0-8f2e-b53747ed08bc",
   "metadata": {},
   "outputs": [],
   "source": [
    "# Split the data into training and testing sets\n",
    "X_train, X_test, y_train, y_test = train_test_split(X, y, test_size=0.2, random_state=42, stratify=y)"
   ]
  },
  {
   "cell_type": "code",
   "execution_count": 64,
   "id": "fca65f1e-065a-4569-a630-73bd0294c71e",
   "metadata": {},
   "outputs": [
    {
     "name": "stdout",
     "output_type": "stream",
     "text": [
      "     distance_from_home  distance_from_last_transaction  \\\n",
      "954           39.904167                        0.367448   \n",
      "143            2.660649                        0.657162   \n",
      "643           48.902727                        0.205816   \n",
      "15           179.665148                        0.120920   \n",
      "793          676.702348                        1.209733   \n",
      "..                  ...                             ...   \n",
      "685            5.916343                        5.099247   \n",
      "722           23.517527                        3.513485   \n",
      "173            3.273426                        1.056948   \n",
      "499            7.387696                        1.598827   \n",
      "593            5.630854                        1.626769   \n",
      "\n",
      "     ratio_to_median_purchase_price  repeat_retailer  used_chip  \\\n",
      "954                        0.260833              1.0        1.0   \n",
      "143                        3.837860              1.0        0.0   \n",
      "643                        1.307000              1.0        0.0   \n",
      "15                         0.535640              1.0        1.0   \n",
      "793                        6.948586              1.0        0.0   \n",
      "..                              ...              ...        ...   \n",
      "685                        0.419779              1.0        0.0   \n",
      "722                        0.241444              1.0        0.0   \n",
      "173                        1.694281              1.0        0.0   \n",
      "499                        0.847218              1.0        0.0   \n",
      "593                        1.645281              1.0        0.0   \n",
      "\n",
      "     used_pin_number  online_order  \n",
      "954              0.0           1.0  \n",
      "143              0.0           1.0  \n",
      "643              1.0           0.0  \n",
      "15               1.0           1.0  \n",
      "793              0.0           1.0  \n",
      "..               ...           ...  \n",
      "685              0.0           0.0  \n",
      "722              0.0           0.0  \n",
      "173              0.0           1.0  \n",
      "499              0.0           1.0  \n",
      "593              0.0           1.0  \n",
      "\n",
      "[781 rows x 7 columns]\n"
     ]
    }
   ],
   "source": [
    "# Print the X_train dataset\n",
    "print(X_train)"
   ]
  },
  {
   "cell_type": "markdown",
   "id": "f85c5567-3247-4c6f-b5a3-51a290fcbf8e",
   "metadata": {},
   "source": [
    "**Prompt:** Write code to print out the testing data."
   ]
  },
  {
   "cell_type": "code",
   "execution_count": 65,
   "id": "aa5fdfd4-44ff-4d38-878c-9280c141a95a",
   "metadata": {},
   "outputs": [
    {
     "name": "stdout",
     "output_type": "stream",
     "text": [
      "X_test:\n",
      "     distance_from_home  distance_from_last_transaction  \\\n",
      "782            0.701100                        0.540487   \n",
      "51            43.281314                        3.367793   \n",
      "197            4.586564                        3.365070   \n",
      "550            4.403263                        0.173726   \n",
      "412          965.910612                        0.023604   \n",
      "..                  ...                             ...   \n",
      "436            6.498016                        0.228995   \n",
      "868            9.258344                        0.633609   \n",
      "65            17.797888                        1.395508   \n",
      "743            5.599947                        2.477098   \n",
      "390           12.391271                        1.658017   \n",
      "\n",
      "     ratio_to_median_purchase_price  repeat_retailer  used_chip  \\\n",
      "782                        1.754568              0.0        0.0   \n",
      "51                         0.676058              1.0        1.0   \n",
      "197                        2.454288              1.0        0.0   \n",
      "550                        0.641169              1.0        0.0   \n",
      "412                        0.257908              1.0        0.0   \n",
      "..                              ...              ...        ...   \n",
      "436                        0.171750              1.0        0.0   \n",
      "868                        0.066744              1.0        1.0   \n",
      "65                         2.880479              1.0        1.0   \n",
      "743                        5.956153              1.0        0.0   \n",
      "390                        0.380575              1.0        0.0   \n",
      "\n",
      "     used_pin_number  online_order  \n",
      "782              0.0           1.0  \n",
      "51               1.0           1.0  \n",
      "197              0.0           0.0  \n",
      "550              0.0           0.0  \n",
      "412              0.0           1.0  \n",
      "..               ...           ...  \n",
      "436              0.0           0.0  \n",
      "868              0.0           1.0  \n",
      "65               0.0           0.0  \n",
      "743              0.0           0.0  \n",
      "390              0.0           1.0  \n",
      "\n",
      "[196 rows x 7 columns]\n",
      "\n",
      " y_test:\n",
      "782    0\n",
      "51     0\n",
      "197    0\n",
      "550    0\n",
      "412    1\n",
      "      ..\n",
      "436    0\n",
      "868    0\n",
      "65     0\n",
      "743    0\n",
      "390    0\n",
      "Name: fraud, Length: 196, dtype: int64\n"
     ]
    }
   ],
   "source": [
    "# Print the testing data\n",
    "print(\"X_test:\")\n",
    "print(X_test)\n",
    "\n",
    "print(\"\\n y_test:\")\n",
    "print(y_test)"
   ]
  },
  {
   "cell_type": "markdown",
   "id": "7cb4e7fa-0235-413d-8a4d-ef6888f32a51",
   "metadata": {},
   "source": [
    "**Prompt:** Write code to create a never fraud variable, where the variable is a list of zeroes that is the same length as y_test. Then print the first 100 items in the list."
   ]
  },
  {
   "cell_type": "code",
   "execution_count": 66,
   "id": "fc2bf842-4524-4c1e-925c-6e1d5d2c3e7c",
   "metadata": {},
   "outputs": [
    {
     "name": "stdout",
     "output_type": "stream",
     "text": [
      "[0, 0, 0, 0, 0, 0, 0, 0, 0, 0, 0, 0, 0, 0, 0, 0, 0, 0, 0, 0, 0, 0, 0, 0, 0, 0, 0, 0, 0, 0, 0, 0, 0, 0, 0, 0, 0, 0, 0, 0, 0, 0, 0, 0, 0, 0, 0, 0, 0, 0, 0, 0, 0, 0, 0, 0, 0, 0, 0, 0, 0, 0, 0, 0, 0, 0, 0, 0, 0, 0, 0, 0, 0, 0, 0, 0, 0, 0, 0, 0, 0, 0, 0, 0, 0, 0, 0, 0, 0, 0, 0, 0, 0, 0, 0, 0, 0, 0, 0, 0]\n"
     ]
    }
   ],
   "source": [
    "# Create a list of zeroes with the same length as y_test\n",
    "never_fraud = [0] * len(y_test)\n",
    "\n",
    "# Print the first 100 items in the list\n",
    "print(never_fraud[:100])"
   ]
  },
  {
   "cell_type": "markdown",
   "id": "587aedee-e7ff-44f8-a398-199056098ff7",
   "metadata": {},
   "source": [
    "**Prompt:** Write code to create a K Nearest Neighbors Classifier with the best neighbors set to 3. Then, write code to predict the model with the X_test data. Then, write code to print the first 100 items of the prediction. "
   ]
  },
  {
   "cell_type": "code",
   "execution_count": 67,
   "id": "a47fa121-6198-453f-9790-9575fa33f6b0",
   "metadata": {},
   "outputs": [
    {
     "name": "stdout",
     "output_type": "stream",
     "text": [
      "[0 0 0 0 1 0 0 0 0 1 0 1 0 0 0 0 0 0 0 0 0 0 0 0 0 0 0 0 0 0 1 1 0 0 1 0 0\n",
      " 0 0 0 0 0 0 0 0 0 0 0 0 0 0 0 0 0 0 0 0 0 0 0 0 0 0 0 0 0 0 0 0 1 0 0 0 0\n",
      " 0 0 1 0 0 0 0 0 0 0 0 0 0 0 0 1 0 0 0 0 0 0 0 0 0 0]\n"
     ]
    }
   ],
   "source": [
    "# Create the K Nearest Neighbors Classifier with n_neighbors set to 3\n",
    "knn_classifier = KNeighborsClassifier(n_neighbors=3)\n",
    "\n",
    "# Fit the classifier on the training data\n",
    "knn_classifier.fit(X_train, y_train)\n",
    "\n",
    "# Predict using the X_test data\n",
    "knn_predictions = knn_classifier.predict(X_test)\n",
    "\n",
    "# Print the first 100 items of the predictions\n",
    "print(knn_predictions[:100])"
   ]
  },
  {
   "cell_type": "markdown",
   "id": "42122cda-5576-48c3-9542-12f1671db4c7",
   "metadata": {},
   "source": [
    "**Prompt:** Write code to create a confusion matrix for y_test with the never_fraud variable. "
   ]
  },
  {
   "cell_type": "code",
   "execution_count": 68,
   "id": "b6bc625e-9ab0-47fe-9906-c56302c27249",
   "metadata": {},
   "outputs": [],
   "source": [
    "# Create the confusion matrix for y_test and never_fraud\n",
    "never_fraud_cm = confusion_matrix(y_test, never_fraud)"
   ]
  },
  {
   "cell_type": "markdown",
   "id": "339a0e92-922e-4cb5-9ec3-41077d7ddfdc",
   "metadata": {},
   "source": [
    "**Prompt:** Write code to plot a heatmap of the confusion matrix, set the annotations to be True, set fmt=\"d\", set the colormap to \"Reds\", and cbar = True. Add a title and axis labels to the heat map. "
   ]
  },
  {
   "cell_type": "code",
   "execution_count": 69,
   "id": "4b789e4f-c1ee-487b-b3b2-0fdb4979471b",
   "metadata": {},
   "outputs": [
    {
     "data": {
      "image/png": "[encoded data removed]",
      "text/plain": [
       "<Figure size 432x288 with 2 Axes>"
      ]
     },
     "metadata": {
      "needs_background": "light"
     },
     "output_type": "display_data"
    }
   ],
   "source": [
    "# Plot the heatmap of the confusion matrix\n",
    "plt.figure(figsize=(6, 4))\n",
    "sns.heatmap(never_fraud_cm, annot=True, fmt=\"d\", cmap=\"Reds\", cbar=True)\n",
    "\n",
    "# Add title and axis labels\n",
    "plt.title(\"Confusion Matrix: y_test vs Never Fraud\")\n",
    "plt.xlabel(\"Predicted Label\")\n",
    "plt.ylabel(\"True Label\")\n",
    "\n",
    "# Display the plot\n",
    "plt.show()"
   ]
  },
  {
   "cell_type": "markdown",
   "id": "58c815da-fa89-4c3b-a9ce-4b8c000a912e",
   "metadata": {},
   "source": [
    "**Prompt:** Write code to print a classification report for y_test and never_fraud."
   ]
  },
  {
   "cell_type": "code",
   "execution_count": 70,
   "id": "391630f7-3304-4ba6-ae0f-a9aac796ee5a",
   "metadata": {},
   "outputs": [
    {
     "name": "stdout",
     "output_type": "stream",
     "text": [
      "              precision    recall  f1-score   support\n",
      "\n",
      "           0       0.92      1.00      0.96       181\n",
      "           1       0.00      0.00      0.00        15\n",
      "\n",
      "    accuracy                           0.92       196\n",
      "   macro avg       0.46      0.50      0.48       196\n",
      "weighted avg       0.85      0.92      0.89       196\n",
      "\n"
     ]
    },
    {
     "name": "stderr",
     "output_type": "stream",
     "text": [
      "/home/jupyter-estamper/.local/lib/python3.9/site-packages/sklearn/metrics/_classification.py:1531: UndefinedMetricWarning: Precision is ill-defined and being set to 0.0 in labels with no predicted samples. Use `zero_division` parameter to control this behavior.\n",
      "  _warn_prf(average, modifier, f\"{metric.capitalize()} is\", len(result))\n",
      "/home/jupyter-estamper/.local/lib/python3.9/site-packages/sklearn/metrics/_classification.py:1531: UndefinedMetricWarning: Precision is ill-defined and being set to 0.0 in labels with no predicted samples. Use `zero_division` parameter to control this behavior.\n",
      "  _warn_prf(average, modifier, f\"{metric.capitalize()} is\", len(result))\n",
      "/home/jupyter-estamper/.local/lib/python3.9/site-packages/sklearn/metrics/_classification.py:1531: UndefinedMetricWarning: Precision is ill-defined and being set to 0.0 in labels with no predicted samples. Use `zero_division` parameter to control this behavior.\n",
      "  _warn_prf(average, modifier, f\"{metric.capitalize()} is\", len(result))\n"
     ]
    }
   ],
   "source": [
    "never_fraud_report = classification_report(y_test, never_fraud)\n",
    "print(never_fraud_report)"
   ]
  },
  {
   "cell_type": "markdown",
   "id": "6d7d7006-875e-4ae8-b7ea-32ced7d863a2",
   "metadata": {},
   "source": [
    "**Prompt:** Write code to create a confusion matrix for y_test and the knn predictions."
   ]
  },
  {
   "cell_type": "code",
   "execution_count": 71,
   "id": "e19ce195-4fd1-4c63-9948-7801aac68a4a",
   "metadata": {},
   "outputs": [],
   "source": [
    "knn_cm = confusion_matrix(y_test, knn_predictions)"
   ]
  },
  {
   "cell_type": "markdown",
   "id": "03e760a7-211f-4284-809f-535c83c4daf8",
   "metadata": {},
   "source": [
    "**Prompt:** Write code to plot a heatmap of the knn confusion matrix, set the annotations to be True, set fmt=\"d\", set the colormap to \"Blues\", and cbar = True. Add a title and axis labels to the heat map. Then, write code to print a classification for y_test and knn_predictions."
   ]
  },
  {
   "cell_type": "code",
   "execution_count": 72,
   "id": "fb12c311-f440-4038-b370-af883884762e",
   "metadata": {},
   "outputs": [
    {
     "data": {
      "image/png": "[encoded data removed]",
      "text/plain": [
       "<Figure size 432x288 with 2 Axes>"
      ]
     },
     "metadata": {
      "needs_background": "light"
     },
     "output_type": "display_data"
    },
    {
     "name": "stdout",
     "output_type": "stream",
     "text": [
      "              precision    recall  f1-score   support\n",
      "\n",
      "           0       0.96      0.97      0.97       181\n",
      "           1       0.62      0.53      0.57        15\n",
      "\n",
      "    accuracy                           0.94       196\n",
      "   macro avg       0.79      0.75      0.77       196\n",
      "weighted avg       0.94      0.94      0.94       196\n",
      "\n"
     ]
    }
   ],
   "source": [
    "# Plot the heatmap of the confusion matrix\n",
    "plt.figure(figsize=(6, 4))\n",
    "sns.heatmap(knn_cm, annot=True, fmt=\"d\", cmap=\"Blues\", cbar=True)\n",
    "\n",
    "# Add title and axis labels\n",
    "plt.title(\"Confusion Matrix: y_test vs KNN Predictions\")\n",
    "plt.xlabel(\"Predicted Label\")\n",
    "plt.ylabel(\"True Label\")\n",
    "\n",
    "# Display the plot\n",
    "plt.show()\n",
    "\n",
    "# Print the classification report for y_test and knn_predictions\n",
    "knn_report = classification_report(y_test, knn_predictions)\n",
    "print(knn_report)"
   ]
  },
  {
   "cell_type": "markdown",
   "id": "112c7713-f0c3-45c9-b4f8-88801d992ca4",
   "metadata": {},
   "source": [
    "**Prompt:** Write code to compute scikit learn metrics for the never_fraud model. Then write code to compute metrics for the knn predictions model. "
   ]
  },
  {
   "cell_type": "code",
   "execution_count": 73,
   "id": "2c36ac54-722c-4963-9131-81f5af1b298d",
   "metadata": {},
   "outputs": [
    {
     "name": "stderr",
     "output_type": "stream",
     "text": [
      "/home/jupyter-estamper/.local/lib/python3.9/site-packages/sklearn/metrics/_classification.py:1531: UndefinedMetricWarning: Precision is ill-defined and being set to 0.0 due to no predicted samples. Use `zero_division` parameter to control this behavior.\n",
      "  _warn_prf(average, modifier, f\"{metric.capitalize()} is\", len(result))\n"
     ]
    }
   ],
   "source": [
    "# Compute metrics for the never_fraud model\n",
    "accuracy_never_fraud = accuracy_score(y_test, never_fraud)\n",
    "precision_never_fraud = precision_score(y_test, never_fraud)\n",
    "recall_never_fraud = recall_score(y_test, never_fraud)\n",
    "f1_never_fraud = f1_score(y_test, never_fraud)\n",
    "\n",
    "# Compute metrics for the KNN predictions model\n",
    "accuracy_knn = accuracy_score(y_test, knn_predictions)\n",
    "precision_knn = precision_score(y_test, knn_predictions)\n",
    "recall_knn = recall_score(y_test, knn_predictions)\n",
    "f1_knn = f1_score(y_test, knn_predictions)"
   ]
  },
  {
   "cell_type": "markdown",
   "id": "26215b43-3721-4bea-8e8f-eb182efc8f5b",
   "metadata": {},
   "source": [
    "**Prompt:** Write code to create a list of strings including \"Accuracy\", \"Precision\", \"Recall\", and \"F1 Score\". Then, write code to create a list including each metric for the never_fraud model. Write code to create a separate list including each metric for the knn predictions model. "
   ]
  },
  {
   "cell_type": "code",
   "execution_count": 74,
   "id": "9ab235d9-8b89-4752-8785-fbad9169be7e",
   "metadata": {},
   "outputs": [],
   "source": [
    "# List of metric names\n",
    "metrics = [\"Accuracy\", \"Precision\", \"Recall\", \"F1 Score\"]\n",
    "\n",
    "# List of metrics for the never_fraud model\n",
    "metrics_never_fraud = [\n",
    "    accuracy_never_fraud,\n",
    "    precision_never_fraud,\n",
    "    recall_never_fraud,\n",
    "    f1_never_fraud\n",
    "]\n",
    "\n",
    "# List of metrics for the KNN predictions model\n",
    "metrics_knn = [\n",
    "    accuracy_knn,\n",
    "    precision_knn,\n",
    "    recall_knn,\n",
    "    f1_knn\n",
    "]"
   ]
  },
  {
   "cell_type": "markdown",
   "id": "be83875a-2265-4351-8027-17510d201a78",
   "metadata": {},
   "source": [
    "**Prompt:** Write code to create a dataframe out of a dictionary. The first key should be \"Metric\" with the list of metric strings. The second key should be \"k-NN\" with the list of knn metrics. The final key should be \"Never Fraud\" with the list of never fraud metrics. "
   ]
  },
  {
   "cell_type": "code",
   "execution_count": 75,
   "id": "5382870f-8a3c-40e2-8e71-dbb6b5e9daec",
   "metadata": {},
   "outputs": [],
   "source": [
    "# Dictionary to create the dataframe\n",
    "metrics_dict = {\n",
    "    \"Metric\": metrics,  # List of metric names\n",
    "    \"k-NN\": metrics_knn,  # List of KNN metrics\n",
    "    \"Never Fraud\": metrics_never_fraud  # List of Never Fraud metrics\n",
    "}\n",
    "\n",
    "# Create the dataframe from the dictionary\n",
    "metrics_df = pd.DataFrame(metrics_dict)"
   ]
  },
  {
   "cell_type": "markdown",
   "id": "7529f181-e19c-4f3a-8a53-a330a8208297",
   "metadata": {},
   "source": [
    "**Prompt:** Write code to set a figure and axis with the figsize of the subplots set to 10, 6. Write code to create a variable setting the bar width to 0.35, and create another variable called \"index\" that is the range of the length of the metrics list. \n",
    "\n",
    "**Prompt 2:** Write code to create a new variable called bar1, which is a barplot on ax. Use index, metrics_knn, and bar_width. Set the label equal to \"k-NN\" and the color equal to \"blue\".\n",
    "\n",
    "**Prompt 3:** Write code to create a new variable called bar2, which is a barplot on ax. Use a list which iterates over the items in index and adds the bar width to each item for the index. Then, use, metrics_never_fraud, and bar_width. Set the label equal to \"Never Fraud\" and the color equal to \"red\".\n",
    "\n",
    "**Prompt 4:** Write code to set the xlabel to \"Metric\", the ylabel to \"Score\", and the title to \"Model Performance Comparison\". Write code to set the xticks equal to a list which iterates over the items in index and adds the bar width divided by two to each item for the index. Write code that will then set the x tick labels to metrics. Write code to set the y limit from 0 to 1, and add a legend to the plot. "
   ]
  },
  {
   "cell_type": "code",
   "execution_count": 77,
   "id": "315f6879-41d6-408b-9683-ac0eb71f8371",
   "metadata": {},
   "outputs": [
    {
     "data": {
      "text/plain": [
       "<matplotlib.legend.Legend at 0x7f4664696520>"
      ]
     },
     "execution_count": 77,
     "metadata": {},
     "output_type": "execute_result"
    },
    {
     "data": {
      "image/png": "[encoded data removed]",
      "text/plain": [
       "<Figure size 720x432 with 1 Axes>"
      ]
     },
     "metadata": {
      "needs_background": "light"
     },
     "output_type": "display_data"
    }
   ],
   "source": [
    "# Set the figure and axis with figsize\n",
    "fig, ax = plt.subplots(figsize=(10, 6))\n",
    "\n",
    "# Set the bar width\n",
    "bar_width = 0.35\n",
    "\n",
    "# Create the index variable for the range of the length of the metrics list\n",
    "index = range(len(metrics))\n",
    "\n",
    "# Create the barplot for k-NN\n",
    "bar1 = ax.bar(index, metrics_knn, bar_width, label=\"k-NN\", color=\"blue\")\n",
    "\n",
    "# Create the barplot for Never Fraud\n",
    "bar2 = ax.bar([i + bar_width for i in index], metrics_never_fraud, bar_width, label=\"Never Fraud\", color=\"red\")\n",
    "\n",
    "# Set the x and y labels, and the title\n",
    "ax.set_xlabel(\"Metric\")\n",
    "ax.set_ylabel(\"Score\")\n",
    "ax.set_title(\"Model Performance Comparison\")\n",
    "\n",
    "# Set the x-ticks to be centered between the bars\n",
    "ax.set_xticks([i + bar_width / 2 for i in index])\n",
    "\n",
    "# Set the x-tick labels to the metrics\n",
    "ax.set_xticklabels(metrics)\n",
    "\n",
    "# Set the y limit from 0 to 1\n",
    "ax.set_ylim(0, 1)\n",
    "\n",
    "# Add the legend to the plot\n",
    "ax.legend()"
   ]
  },
  {
   "cell_type": "code",
   "execution_count": null,
   "id": "acac3fae-27aa-4156-afc1-acb2f382b01b",
   "metadata": {},
   "outputs": [],
   "source": []
  }
 ],
 "metadata": {
  "kernelspec": {
   "display_name": "Python 3 (ipykernel)",
   "language": "python",
   "name": "python3"
  },
  "language_info": {
   "codemirror_mode": {
    "name": "ipython",
    "version": 3
   },
   "file_extension": ".py",
   "mimetype": "text/x-python",
   "name": "python",
   "nbconvert_exporter": "python",
   "pygments_lexer": "ipython3",
   "version": "3.9.7"
  }
 },
 "nbformat": 4,
 "nbformat_minor": 5
}
